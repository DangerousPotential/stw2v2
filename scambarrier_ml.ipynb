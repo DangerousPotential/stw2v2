{
  "nbformat": 4,
  "nbformat_minor": 0,
  "metadata": {
    "colab": {
      "provenance": []
    },
    "kernelspec": {
      "name": "python3",
      "display_name": "Python 3"
    },
    "language_info": {
      "name": "python"
    }
  },
  "cells": [
    {
      "cell_type": "code",
      "execution_count": null,
      "metadata": {
        "id": "l6Ph8JEw6Ztx"
      },
      "outputs": [],
      "source": [
        "\"\"\"upload messages.csv file onto this file before running this machine learning code\"\"\"\n",
        "\n",
        "import pandas as pd\n",
        "from textblob import TextBlob\n",
        "\n",
        "# read the CSV file into a pandas DataFrame\n",
        "df = pd.read_csv('messages.csv')\n",
        "\n",
        "# create empty lists to store polarity and subjectivity values\n",
        "polarity = []\n",
        "subjectivity = []\n",
        "\n",
        "# iterate over each row in the DataFrame\n",
        "for index, row in df.iterrows():\n",
        "    # create a TextBlob object for the text in the current row\n",
        "    blob = TextBlob(row['text'])\n",
        "    # append the polarity and subjectivity values to the lists\n",
        "    polarity.append(blob.sentiment.polarity)\n",
        "    subjectivity.append(blob.sentiment.subjectivity)\n",
        "\n",
        "# add the polarity and subjectivity columns to the DataFrame\n",
        "df['polarity'] = polarity\n",
        "df['subjectivity'] = subjectivity\n",
        "\n",
        "# save the updated DataFrame to a new CSV file with headers 'text', 'polarity', and 'subjectivity'\n",
        "df.to_csv('data.csv', index=False, columns=['text', 'polarity', 'subjectivity','scam'])"
      ]
    },
    {
      "cell_type": "code",
      "source": [
        "import pandas as pd\n",
        "from sklearn.model_selection import train_test_split\n",
        "from sklearn.ensemble import RandomForestRegressor\n",
        "\n",
        "def predict_average_polarity(csv_file):\n",
        "    # Load the data from the CSV file into a pandas DataFrame\n",
        "    data = pd.read_csv(csv_file)\n",
        "\n",
        "    # Preprocess the data\n",
        "    X = data[['scam']]\n",
        "    y = data['polarity']\n",
        "    X_train, X_test, y_train, y_test = train_test_split(X, y, test_size=0.2, random_state=42)\n",
        "\n",
        "    # Train a machine learning model\n",
        "    model = RandomForestRegressor()\n",
        "    model.fit(X_train, y_train)\n",
        "\n",
        "    # Predict the average polarity for scam messages\n",
        "    y_pred = model.predict(X_test[X_test['scam'] == 1])\n",
        "    average_polarity = y_pred.mean()\n",
        "\n",
        "    return average_polarity\n",
        "\n",
        "average_polarity = predict_average_polarity(\"data.csv\")\n",
        "print(\"Average Polarity for Scam Messages:\", average_polarity)\n"
      ],
      "metadata": {
        "id": "--BUcSLW7u2Z",
        "colab": {
          "base_uri": "https://localhost:8080/"
        },
        "outputId": "08e7fbf5-6525-4558-fae4-b4a26b4d1b21"
      },
      "execution_count": null,
      "outputs": [
        {
          "output_type": "stream",
          "name": "stdout",
          "text": [
            "Average Polarity for Scam Messages: 0.22848046737213404\n"
          ]
        }
      ]
    },
    {
      "cell_type": "code",
      "source": [],
      "metadata": {
        "id": "1h-JOMjJ7kAr"
      },
      "execution_count": null,
      "outputs": []
    }
  ]
}